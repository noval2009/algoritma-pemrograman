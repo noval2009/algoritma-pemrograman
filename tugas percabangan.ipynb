{
  "nbformat": 4,
  "nbformat_minor": 0,
  "metadata": {
    "colab": {
      "provenance": [],
      "authorship_tag": "ABX9TyPig3QA748SVcrJ/0vwTf79",
      "include_colab_link": true
    },
    "kernelspec": {
      "name": "python3",
      "display_name": "Python 3"
    },
    "language_info": {
      "name": "python"
    }
  },
  "cells": [
    {
      "cell_type": "markdown",
      "metadata": {
        "id": "view-in-github",
        "colab_type": "text"
      },
      "source": [
        "<a href=\"https://colab.research.google.com/github/noval2009/algoritma-pemrograman/blob/main/tugas%20percabangan.ipynb\" target=\"_parent\"><img src=\"https://colab.research.google.com/assets/colab-badge.svg\" alt=\"Open In Colab\"/></a>"
      ]
    },
    {
      "cell_type": "markdown",
      "source": [
        "#Tugas 1\n",
        "1. Penentuan Diskon Berdasarkan Jumlah Pembelian\n",
        "Deskripsi:\n",
        "Sebuah toko memberikan diskon kepada pelanggan berdasarkan jumlah pembelian mereka. Aturan diskon adalah sebagai berikut:\n",
        "\n",
        "Pembelian di bawah Rp100.000 tidak mendapat diskon.\n",
        "Pembelian antara Rp100.000 - Rp500.000 mendapat diskon 10%.\n",
        "Pembelian di atas Rp500.000 mendapat diskon 20%.\n"
      ],
      "metadata": {
        "id": "YnJMSPYqhshW"
      }
    },
    {
      "cell_type": "code",
      "source": [
        "#tugas 1\n",
        "a = int(input(\"masukan jumlah pembelian : \"))\n",
        "if a < 100000:\n",
        "  print(\"tidak mendapat diskon\")\n",
        "elif a >= 500000:\n",
        "  print(\"mendapat diskon 10%\")\n",
        "else:\n",
        "  print(\"mendapat diskon 20%\")\n"
      ],
      "metadata": {
        "colab": {
          "base_uri": "https://localhost:8080/"
        },
        "id": "-4VS8MtGhv4U",
        "outputId": "ae761121-ccc2-4877-ea2a-5c4a766f45c9"
      },
      "execution_count": 3,
      "outputs": [
        {
          "output_type": "stream",
          "name": "stdout",
          "text": [
            "masukan jumlah pembelian : 250000\n",
            "mendapat diskon 20%\n"
          ]
        }
      ]
    },
    {
      "cell_type": "markdown",
      "source": [
        "#tugas 2\n",
        "2.Klasifikasi Umur\n",
        "Deskripsi:\n",
        "Anda diminta membuat program untuk mengelompokkan seseorang berdasarkan umur. Aturannya:\n",
        "\n",
        "Umur 0-12 tahun: Anak-anak\n",
        "Umur 13-17 tahun: Remaja\n",
        "Umur 18-64 tahun: Dewasa\n",
        "Umur 65 tahun ke atas: Lansia\n",
        "Tugas:\n",
        "\n",
        "Buat program yang menerima input umur.\n",
        "Gunakan percabangan untuk menentukan kategori usia.\n",
        "Tampilkan kategori usia berdasarkan aturan di atas.\n"
      ],
      "metadata": {
        "id": "opUS9L4lkI3F"
      }
    },
    {
      "cell_type": "code",
      "source": [
        "#tugas 2\n",
        "\n",
        "a = int(input(\"masukan umur : \"))\n",
        "if a <= 12:\n",
        "  print(\"anak-anak\")\n",
        "elif a <= 17:\n",
        "  print(\"remaja\")\n",
        "elif a <= 64:\n",
        "  print(\"dewasa\")\n",
        "else:\n",
        "  print(\"lansia\")"
      ],
      "metadata": {
        "colab": {
          "base_uri": "https://localhost:8080/"
        },
        "id": "qbtO879nkgcH",
        "outputId": "9bcdc7ea-c056-43b9-9734-5bb904543696"
      },
      "execution_count": 11,
      "outputs": [
        {
          "output_type": "stream",
          "name": "stdout",
          "text": [
            "masukan umur : 75\n",
            "lansia\n"
          ]
        }
      ]
    },
    {
      "cell_type": "markdown",
      "source": [
        "#tugas 3\n",
        "3.Penilaian Nilai Siswa\n",
        "Deskripsi:\n",
        "Sebuah sekolah memiliki standar penilaian sebagai berikut:\n",
        "\n",
        "Nilai 90-100: Sangat Baik\n",
        "Nilai 70-89: Baik\n",
        "Nilai 50-69: Cukup\n",
        "Nilai di bawah 50: Kurang\n",
        "Tugas:\n",
        "\n",
        "Buat program yang menerima input nilai dari pengguna.\n",
        "Tentukan kategori nilai sesuai standar di atas.\n",
        "Tampilkan hasil penilaian.\n"
      ],
      "metadata": {
        "id": "cqi6Sq9vlI4X"
      }
    },
    {
      "cell_type": "code",
      "source": [
        "# tugas 3\n",
        "a = int(input(\"Masukkan nilai siswa: \"))\n",
        "if a <= 100:\n",
        "  print(\"kurang\")\n",
        "elif a <=89:\n",
        "  print(\"baik\")\n",
        "elif a <=69:\n",
        "  print(\"cukup\")\n",
        "else:\n",
        "  print(\"sangat baik\")\n"
      ],
      "metadata": {
        "colab": {
          "base_uri": "https://localhost:8080/"
        },
        "id": "qOLEHSRKlmFw",
        "outputId": "a4c857c0-e757-4d05-ceb3-37020cb44fb1"
      },
      "execution_count": 8,
      "outputs": [
        {
          "output_type": "stream",
          "name": "stdout",
          "text": [
            "Masukkan nilai siswa: 75\n",
            "kurang\n"
          ]
        }
      ]
    },
    {
      "cell_type": "markdown",
      "source": [
        "#tugas 4\n",
        "4.Pengecekan Tahun Kabisat\n",
        "Deskripsi:\n",
        "Anda diminta membuat program untuk menentukan apakah suatu tahun merupakan tahun kabisat. Aturannya:\n",
        "\n",
        "Tahun habis dibagi 4 adalah kabisat, kecuali tahun yang habis dibagi 100 tetapi tidak habis dibagi 400.\n",
        "Tugas:\n",
        "\n",
        "Buat program yang menerima input tahun dari pengguna.\n",
        "Gunakan percabangan untuk menentukan apakah tahun tersebut kabisat.\n",
        "Tampilkan hasilnya.\n"
      ],
      "metadata": {
        "id": "FATSsfcxnURG"
      }
    },
    {
      "cell_type": "code",
      "source": [
        "# tugas 4\n",
        "a = int(input(\"Masukkan tahun: \"))\n",
        "if a % 4 == 0:\n",
        "  if a % 100 == 0:\n",
        "    if a % 400 == 0:\n",
        "      print(\"tahun kabisat\")\n",
        "    else:\n",
        "      print(\"bukan tahun kabisat\")\n"
      ],
      "metadata": {
        "colab": {
          "base_uri": "https://localhost:8080/"
        },
        "id": "Y0piVr9cnh-Q",
        "outputId": "207c557f-1786-473c-93fa-f4ad6bda338f"
      },
      "execution_count": 12,
      "outputs": [
        {
          "output_type": "stream",
          "name": "stdout",
          "text": [
            "Masukkan tahun: 1500\n",
            "bukan tahun kabisat\n"
          ]
        }
      ]
    },
    {
      "cell_type": "markdown",
      "source": [
        "#tugas 5\n",
        "5.Kalkulator Sederhana\n",
        "Deskripsi:\n",
        "Buat kalkulator sederhana yang dapat melakukan operasi tambah, kurang, kali, dan bagi. Program akan meminta pengguna memasukkan dua angka dan memilih operasi.\n",
        "\n",
        "Tugas:\n",
        "\n",
        "Buat program yang meminta input dua angka dan jenis operasi (+, -, *, /).\n",
        "Gunakan percabangan untuk menentukan operasi yang dipilih dan lakukan perhitungan.\n",
        "Tampilkan hasilnya."
      ],
      "metadata": {
        "id": "6BRATqlgn3aT"
      }
    },
    {
      "cell_type": "code",
      "source": [
        "# tugas 5\n",
        "a = int(input(\"Masukkan angka pertama: \"))\n",
        "b = int(input(\"Masukkan angka kedua: \"))\n",
        "c = input(\"Masukkan operasi: \")\n",
        "if c == \"+\":\n",
        "  print(a+b)\n",
        "elif c == \"-\":\n",
        "  print(a-b)\n",
        "elif c == \"*\":\n",
        "  print(a*b)\n",
        "\n"
      ],
      "metadata": {
        "colab": {
          "base_uri": "https://localhost:8080/"
        },
        "id": "j_bTNIIGoNsO",
        "outputId": "4940bee9-a881-480d-c713-cfa78603bba4"
      },
      "execution_count": 14,
      "outputs": [
        {
          "output_type": "stream",
          "name": "stdout",
          "text": [
            "Masukkan angka pertama: 5\n",
            "Masukkan angka kedua: 5\n",
            "Masukkan operasi: *\n",
            "25\n"
          ]
        }
      ]
    }
  ]
}