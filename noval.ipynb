{
  "nbformat": 4,
  "nbformat_minor": 0,
  "metadata": {
    "colab": {
      "provenance": [],
      "authorship_tag": "ABX9TyNFLwkQs2lJpHnRpbRZCtyd",
      "include_colab_link": true
    },
    "kernelspec": {
      "name": "python3",
      "display_name": "Python 3"
    },
    "language_info": {
      "name": "python"
    }
  },
  "cells": [
    {
      "cell_type": "markdown",
      "metadata": {
        "id": "view-in-github",
        "colab_type": "text"
      },
      "source": [
        "<a href=\"https://colab.research.google.com/github/noval2009/algoritma-pemrograman/blob/main/noval.ipynb\" target=\"_parent\"><img src=\"https://colab.research.google.com/assets/colab-badge.svg\" alt=\"Open In Colab\"/></a>"
      ]
    },
    {
      "cell_type": "code",
      "source": [
        "contoh variabel\n",
        "x=9 Bertipe int\n",
        "y= \"nvl\" bertipe str\n",
        "print(x)\n",
        "print\"y"
      ],
      "metadata": {
        "colab": {
          "base_uri": "https://localhost:8080/",
          "height": 106
        },
        "id": "3xDib70VXhus",
        "outputId": "9ab70f3f-8307-46c8-f994-6ee45f342025"
      },
      "execution_count": 4,
      "outputs": [
        {
          "output_type": "error",
          "ename": "SyntaxError",
          "evalue": "unterminated string literal (detected at line 5) (<ipython-input-4-885e8d803826>, line 5)",
          "traceback": [
            "\u001b[0;36m  File \u001b[0;32m\"<ipython-input-4-885e8d803826>\"\u001b[0;36m, line \u001b[0;32m5\u001b[0m\n\u001b[0;31m    print\"y\u001b[0m\n\u001b[0m         ^\u001b[0m\n\u001b[0;31mSyntaxError\u001b[0m\u001b[0;31m:\u001b[0m unterminated string literal (detected at line 5)\n"
          ]
        }
      ]
    },
    {
      "cell_type": "code",
      "source": [
        "x = str(99)\n",
        "y = int(988)\n",
        "z = float(65)\n",
        "print(x)\n",
        "print(y)\n",
        "print(z)"
      ],
      "metadata": {
        "colab": {
          "base_uri": "https://localhost:8080/"
        },
        "id": "_DAaWUbQZW3O",
        "outputId": "e1b049ca-7197-4d7b-f8f6-3642889a3b5b"
      },
      "execution_count": 3,
      "outputs": [
        {
          "output_type": "stream",
          "name": "stdout",
          "text": [
            "99\n",
            "988\n",
            "65.0\n"
          ]
        }
      ]
    },
    {
      "cell_type": "code",
      "source": [
        "a = input (\"masukan nama teman pertama :\")\n",
        "b = input (\"masukan nama teman kedua :\")\n",
        "\n",
        "print (\"berdasarkan hasil survei  :\" ,a ,\" dan \" ,b ,\" adalah teman yang cocok\")"
      ],
      "metadata": {
        "colab": {
          "base_uri": "https://localhost:8080/"
        },
        "id": "GrxjbU8raEqc",
        "outputId": "6771228e-3ef2-45de-d31e-56f08bdfb227"
      },
      "execution_count": 7,
      "outputs": [
        {
          "output_type": "stream",
          "name": "stdout",
          "text": [
            "masukan nama teman pertama :aira\n",
            "masukan nama teman kedua :adinda\n",
            "berdasarkan hasil survei  : aira  dan  adinda  adalah teman yang cocok\n"
          ]
        }
      ]
    },
    {
      "cell_type": "code",
      "source": [
        "a = input (\"masukan nama pasangan 1 :\")\n",
        "b = input (\"masukan nama pasangan 2 :\")\n",
        "\n",
        "print (\" hasil survei antara pasangan\" , a, \"dan pasangan\", b, \"adalah pasangan yang cocok\")"
      ],
      "metadata": {
        "colab": {
          "base_uri": "https://localhost:8080/"
        },
        "id": "NmpWR2EOcAwc",
        "outputId": "344d48e0-6b11-4636-eb11-2494f7306d23"
      },
      "execution_count": 8,
      "outputs": [
        {
          "output_type": "stream",
          "name": "stdout",
          "text": [
            "masukan nama pasangan 1 :noval\n",
            "masukan nama pasangan 2 :aira\n",
            " hasil survei antara pasangan noval dan pasangan aira adalah pasangan yang cocok\n"
          ]
        }
      ]
    },
    {
      "cell_type": "code",
      "source": [
        "a = 760\n",
        "b = input (\"masukan nama teman pertama :\")\n",
        "c = input (\"masukan nama teman kedua :\")\n",
        "d = int(a) / 2\n",
        "print (b,\"mendapatkan gaji sebanyak\" , d, \"buah. dan si\" , c,\"mendapatkan gaji sebanyak\" , d)"
      ],
      "metadata": {
        "colab": {
          "base_uri": "https://localhost:8080/"
        },
        "id": "TrrLl6IhcwWl",
        "outputId": "d783a817-6147-40bd-aaee-5ae15619085a"
      },
      "execution_count": 9,
      "outputs": [
        {
          "output_type": "stream",
          "name": "stdout",
          "text": [
            "masukan nama teman pertama :kapih\n",
            "masukan nama teman kedua :ikih\n",
            "kapih mendapatkan gaji sebanyak 380.0 buah. dan si ikih mendapatkan gaji sebanyak 380.0\n"
          ]
        }
      ]
    }
  ]
}